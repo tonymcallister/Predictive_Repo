{
 "cells": [
  {
   "cell_type": "markdown",
   "metadata": {},
   "source": [
    "# DataSet Pull\n",
    "This notebook will pull the data set for turbofans"
   ]
  },
  {
   "cell_type": "code",
   "execution_count": 1,
   "metadata": {},
   "outputs": [
    {
     "name": "stdout",
     "output_type": "stream",
     "text": [
      "--2020-01-29 15:59:56--  https://ti.arc.nasa.gov/c/6/\n",
      "Resolving ti.arc.nasa.gov (ti.arc.nasa.gov)... 128.102.105.66, 2001:4d0:6311:2227:14b6:372b:2078:2a94\n",
      "Connecting to ti.arc.nasa.gov (ti.arc.nasa.gov)|128.102.105.66|:443... connected.\n",
      "HTTP request sent, awaiting response... 302 FOUND\n",
      "Location: https://ti.arc.nasa.gov/m/project/prognostic-repository/CMAPSSData.zip [following]\n",
      "--2020-01-29 15:59:56--  https://ti.arc.nasa.gov/m/project/prognostic-repository/CMAPSSData.zip\n",
      "Reusing existing connection to ti.arc.nasa.gov:443.\n",
      "HTTP request sent, awaiting response... 200 OK\n",
      "Length: 12425978 (12M) [application/zip]\n",
      "Saving to: ‘index.html’\n",
      "\n",
      "index.html          100%[===================>]  11.85M  8.64MB/s    in 1.4s    \n",
      "\n",
      "2020-01-29 15:59:58 (8.64 MB/s) - ‘index.html’ saved [12425978/12425978]\n",
      "\n"
     ]
    }
   ],
   "source": [
    "#download data. The url is obtained from here \"https://ti.arc.nasa.gov/tech/dash/groups/pcoe/prognostic-data-repository/#turbofan\"\n",
    "!wget https://ti.arc.nasa.gov/c/6/"
   ]
  },
  {
   "cell_type": "markdown",
   "metadata": {},
   "source": [
    "# Download the zip file that contains the dataset"
   ]
  },
  {
   "cell_type": "code",
   "execution_count": 2,
   "metadata": {
    "scrolled": true
   },
   "outputs": [
    {
     "name": "stdout",
     "output_type": "stream",
     "text": [
      "--2020-01-29 16:02:20--  https://ti.arc.nasa.gov/m/project/prognostic-repository/CMAPSSData.zip\n",
      "Resolving ti.arc.nasa.gov (ti.arc.nasa.gov)... 128.102.105.66, 2001:4d0:6311:2227:14b6:372b:2078:2a94\n",
      "Connecting to ti.arc.nasa.gov (ti.arc.nasa.gov)|128.102.105.66|:443... connected.\n",
      "HTTP request sent, awaiting response... 200 OK\n",
      "Length: 12425978 (12M) [application/zip]\n",
      "Saving to: ‘CMAPSSData.zip’\n",
      "\n",
      "CMAPSSData.zip      100%[===================>]  11.85M  8.61MB/s    in 1.4s    \n",
      "\n",
      "2020-01-29 16:02:22 (8.61 MB/s) - ‘CMAPSSData.zip’ saved [12425978/12425978]\n",
      "\n"
     ]
    }
   ],
   "source": [
    "!wget https://ti.arc.nasa.gov/m/project/prognostic-repository/CMAPSSData.zip"
   ]
  },
  {
   "cell_type": "markdown",
   "metadata": {},
   "source": [
    "# Extract the files from the zip file"
   ]
  },
  {
   "cell_type": "code",
   "execution_count": 3,
   "metadata": {},
   "outputs": [],
   "source": [
    "import zipfile\n",
    "with zipfile.ZipFile('CMAPSSData.zip', 'r') as zip_ref:\n",
    "    zip_ref.extractall()"
   ]
  },
  {
   "cell_type": "code",
   "execution_count": null,
   "metadata": {},
   "outputs": [],
   "source": []
  }
 ],
 "metadata": {
  "kernelspec": {
   "display_name": "conda_python3",
   "language": "python",
   "name": "conda_python3"
  },
  "language_info": {
   "codemirror_mode": {
    "name": "ipython",
    "version": 3
   },
   "file_extension": ".py",
   "mimetype": "text/x-python",
   "name": "python",
   "nbconvert_exporter": "python",
   "pygments_lexer": "ipython3",
   "version": "3.6.5"
  }
 },
 "nbformat": 4,
 "nbformat_minor": 2
}
